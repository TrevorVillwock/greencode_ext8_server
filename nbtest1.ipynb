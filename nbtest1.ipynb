{
 "cells": [
  {
   "cell_type": "code",
   "execution_count": 3,
   "id": "602f519c-b837-485b-a0de-66aabd25aa9b",
   "metadata": {},
   "outputs": [
    {
     "name": "stdout",
     "output_type": "stream",
     "text": [
      " 1\n",
      "  2\n",
      "3\n",
      " 4\n",
      "  5\n",
      "6\n",
      " 7\n",
      "  8\n",
      "9\n"
     ]
    }
   ],
   "source": [
    "for i in range(1, 10):\n",
    "    print(\" \"*(i%3) + str(i))"
   ]
  },
  {
   "cell_type": "code",
   "execution_count": 9,
   "id": "22b049e1-3165-4ef2-82ad-5ff573cb096d",
   "metadata": {},
   "outputs": [
    {
     "name": "stdout",
     "output_type": "stream",
     "text": [
      "/home/mahler7/greencode_ext8_server/nbtest1.ipynb\n"
     ]
    }
   ],
   "source": [
    "import ipynbname\n",
    "nbpath = ipynbname.path()\n",
    "print(nbpath)"
   ]
  },
  {
   "cell_type": "code",
   "execution_count": 17,
   "id": "8b963219-5d3e-489e-8bfd-f49c230a91e5",
   "metadata": {},
   "outputs": [],
   "source": [
    "from get_nb_path import notebook_path"
   ]
  },
  {
   "cell_type": "code",
   "execution_count": 18,
   "id": "6ca5ffd7-65b5-478d-b6a5-bac08af1c005",
   "metadata": {},
   "outputs": [
    {
     "name": "stdout",
     "output_type": "stream",
     "text": [
      "<http.client.HTTPResponse object at 0x7f2bb9fbc100>\n",
      "/home/mahler7/greencode_ext8_server/nbtest1.ipynb\n"
     ]
    }
   ],
   "source": [
    "notebook_path('root_dir')"
   ]
  },
  {
   "cell_type": "code",
   "execution_count": null,
   "id": "1b4c3667-53de-4f35-8228-e36b02eefdff",
   "metadata": {},
   "outputs": [],
   "source": []
  }
 ],
 "metadata": {
  "kernelspec": {
   "display_name": "Python 3",
   "language": "python",
   "name": "python3"
  },
  "language_info": {
   "codemirror_mode": {
    "name": "ipython",
    "version": 3
   },
   "file_extension": ".py",
   "mimetype": "text/x-python",
   "name": "python",
   "nbconvert_exporter": "python",
   "pygments_lexer": "ipython3",
   "version": "3.9.4"
  }
 },
 "nbformat": 4,
 "nbformat_minor": 5
}
