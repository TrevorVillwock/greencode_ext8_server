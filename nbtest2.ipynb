{
 "cells": [
  {
   "cell_type": "code",
   "execution_count": 4,
   "id": "34f03f4c-fa09-43a5-b6f9-7cb8edef75a1",
   "metadata": {},
   "outputs": [],
   "source": [
    "import ipynbname"
   ]
  },
  {
   "cell_type": "code",
   "execution_count": 6,
   "id": "fbd6adbf-e1fd-4edd-8040-5677cffdee5c",
   "metadata": {},
   "outputs": [
    {
     "name": "stdout",
     "output_type": "stream",
     "text": [
      "<http.client.HTTPResponse object at 0x7f6f8853a760>\n",
      "/home/mahler7/greencode_ext8_server/nbtest2.ipynb\n"
     ]
    }
   ],
   "source": [
    "from get_nb_path import notebook_path\n",
    "notebook_path('root_dir')"
   ]
  },
  {
   "cell_type": "code",
   "execution_count": null,
   "id": "c5115d19-a27d-4525-9f18-50edf64ec538",
   "metadata": {},
   "outputs": [],
   "source": []
  }
 ],
 "metadata": {
  "kernelspec": {
   "display_name": "Python 3",
   "language": "python",
   "name": "python3"
  },
  "language_info": {
   "codemirror_mode": {
    "name": "ipython",
    "version": 3
   },
   "file_extension": ".py",
   "mimetype": "text/x-python",
   "name": "python",
   "nbconvert_exporter": "python",
   "pygments_lexer": "ipython3",
   "version": "3.9.4"
  }
 },
 "nbformat": 4,
 "nbformat_minor": 5
}
